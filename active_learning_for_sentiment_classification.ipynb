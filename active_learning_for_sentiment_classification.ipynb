{
  "nbformat": 4,
  "nbformat_minor": 0,
  "metadata": {
    "colab": {
      "name": "active_learning_for_sentiment_classification.ipynb",
      "version": "0.3.2",
      "provenance": [],
      "include_colab_link": true
    },
    "kernelspec": {
      "display_name": "Python 3",
      "language": "python",
      "name": "python3"
    }
  },
  "cells": [
    {
      "cell_type": "markdown",
      "metadata": {
        "id": "view-in-github",
        "colab_type": "text"
      },
      "source": [
        "[View in Colaboratory](https://colab.research.google.com/github/nikolay-bushkov/kaist_internship/blob/master/active_learning_for_sentiment_classification.ipynb)"
      ]
    },
    {
      "metadata": {
        "id": "b3e0epgNwMzU",
        "colab_type": "text"
      },
      "cell_type": "markdown",
      "source": [
        "# Predicting sentiment on the IMDB dataset"
      ]
    },
    {
      "metadata": {
        "id": "IBpB2cxkwMzX",
        "colab_type": "text"
      },
      "cell_type": "markdown",
      "source": [
        "Based on https://developers.google.com/machine-learning/guides/text-classification/"
      ]
    },
    {
      "metadata": {
        "id": "slGm7jADwMzZ",
        "colab_type": "code",
        "colab": {}
      },
      "cell_type": "code",
      "source": [
        "!pip3 install -q modAL"
      ],
      "execution_count": 0,
      "outputs": []
    },
    {
      "metadata": {
        "id": "mk5M3nnuwMze",
        "colab_type": "code",
        "colab": {}
      },
      "cell_type": "code",
      "source": [
        "import os\n",
        "import tarfile"
      ],
      "execution_count": 0,
      "outputs": []
    },
    {
      "metadata": {
        "id": "tKWYX8gywMzh",
        "colab_type": "code",
        "colab": {}
      },
      "cell_type": "code",
      "source": [
        "import numpy as np\n",
        "from sklearn.datasets import load_files\n",
        "from sklearn.preprocessing import FunctionTransformer\n",
        "from sklearn.feature_extraction.text import TfidfVectorizer\n",
        "from sklearn.feature_selection import SelectKBest\n",
        "from sklearn.feature_selection import f_classif\n",
        "from sklearn.pipeline import Pipeline\n",
        "from sklearn.neural_network import MLPClassifier"
      ],
      "execution_count": 0,
      "outputs": []
    },
    {
      "metadata": {
        "id": "x1lUMSJPwMzk",
        "colab_type": "text"
      },
      "cell_type": "markdown",
      "source": [
        "## Data preparation"
      ]
    },
    {
      "metadata": {
        "id": "OVMA2TPJwMzl",
        "colab_type": "code",
        "colab": {},
        "outputId": "e207e8b6-74e1-48fc-fbca-9c8b06e300c2"
      },
      "cell_type": "code",
      "source": [
        "!wget http://ai.stanford.edu/~amaas/data/sentiment/aclImdb_v1.tar.gz"
      ],
      "execution_count": 0,
      "outputs": [
        {
          "output_type": "stream",
          "text": [
            "--2018-08-21 14:42:48--  http://ai.stanford.edu/~amaas/data/sentiment/aclImdb_v1.tar.gz\n",
            "Resolving ai.stanford.edu (ai.stanford.edu)... 171.64.68.10\n",
            "Connecting to ai.stanford.edu (ai.stanford.edu)|171.64.68.10|:80... connected.\n",
            "HTTP request sent, awaiting response... 200 OK\n",
            "Length: 84125825 (80M) [application/x-gzip]\n",
            "Saving to: ‘aclImdb_v1.tar.gz’\n",
            "\n",
            "aclImdb_v1.tar.gz   100%[===================>]  80.23M  3.83MB/s    in 41s     \n",
            "\n",
            "2018-08-21 14:43:29 (1.97 MB/s) - ‘aclImdb_v1.tar.gz’ saved [84125825/84125825]\n",
            "\n"
          ],
          "name": "stdout"
        }
      ]
    },
    {
      "metadata": {
        "id": "Qo9Yzg43wMzq",
        "colab_type": "code",
        "colab": {}
      },
      "cell_type": "code",
      "source": [
        "if not os.path.exists('aclImdb'):\n",
        "    # unzip data if it does not exist\n",
        "    with tarfile.open('aclImdb_v1.tar.gz', 'r:gz') as f:\n",
        "        f.extractall()"
      ],
      "execution_count": 0,
      "outputs": []
    },
    {
      "metadata": {
        "id": "UCR0oY-fwMzs",
        "colab_type": "code",
        "colab": {}
      },
      "cell_type": "code",
      "source": [
        "train_ds = load_files('aclImdb/train/', categories=['pos', 'neg'])"
      ],
      "execution_count": 0,
      "outputs": []
    },
    {
      "metadata": {
        "id": "QnOeZTPuwMzu",
        "colab_type": "code",
        "colab": {}
      },
      "cell_type": "code",
      "source": [
        "test_ds = load_files('aclImdb/test/', categories=['pos', 'neg'])"
      ],
      "execution_count": 0,
      "outputs": []
    },
    {
      "metadata": {
        "id": "hKehJxTAwMzx",
        "colab_type": "code",
        "colab": {}
      },
      "cell_type": "code",
      "source": [
        "X_train_full, y_train_full = np.asarray([x.decode() for x in train_ds['data']]).reshape(-1, 1), train_ds['target']"
      ],
      "execution_count": 0,
      "outputs": []
    },
    {
      "metadata": {
        "id": "_ajwgvoxwMzz",
        "colab_type": "code",
        "colab": {}
      },
      "cell_type": "code",
      "source": [
        "X_test, y_test = np.asarray([x.decode() for x in test_ds['data']]).reshape(-1, 1), test_ds['target']"
      ],
      "execution_count": 0,
      "outputs": []
    },
    {
      "metadata": {
        "id": "FPcVL7lawMz1",
        "colab_type": "text"
      },
      "cell_type": "markdown",
      "source": [
        "We mostly leave the data as is; for better results, we should for instance remove markup, but we leave this out for brevity."
      ]
    },
    {
      "metadata": {
        "id": "SpcFulj0wMz2",
        "colab_type": "text"
      },
      "cell_type": "markdown",
      "source": [
        "### A peak at the data"
      ]
    },
    {
      "metadata": {
        "id": "gSelK0l5wMz2",
        "colab_type": "code",
        "colab": {},
        "outputId": "8d97fed7-de85-4509-f1fe-1d8fc8f62463"
      },
      "cell_type": "code",
      "source": [
        "for text, target in zip(X_train_full[5:7], y_train_full[5:7]):\n",
        "    print(\"Target: {}\".format(train_ds['target_names'][target]))\n",
        "    print(text)"
      ],
      "execution_count": 0,
      "outputs": [
        {
          "output_type": "stream",
          "text": [
            "Target: pos\n",
            "[\"The Movie was sub-par, but this Television Pilot delivers a great springboard into what has become a Sci-Fi fans Ideal program. The Actors deliver and the special effects (for a television series) are spectacular. Having an intelligent interesting script doesn't hurt either.<br /><br />Stargate SG1 is currently one of my favorite programs.\"]\n",
            "Target: pos\n",
            "[\"This movie has a special way of telling the story, at first i found it rather odd as it jumped through time and I had no idea whats happening.<br /><br />Anyway the story line was although simple, but still very real and touching. You met someone the first time, you fell in love completely, but broke up at last and promoted a deadly agony. Who hasn't go through this? but we will never forget this kind of pain in our life. <br /><br />I would say i am rather touched as two actor has shown great performance in showing the love between the characters. I just wish that the story could be a happy ending.\"]\n"
          ],
          "name": "stdout"
        }
      ]
    },
    {
      "metadata": {
        "id": "Ngkqx7kSwMz7",
        "colab_type": "text"
      },
      "cell_type": "markdown",
      "source": [
        "## Baseline"
      ]
    },
    {
      "metadata": {
        "id": "q4Lz4vVCwMz7",
        "colab_type": "code",
        "colab": {}
      },
      "cell_type": "code",
      "source": [
        "def modAL_workaround(X):\n",
        "    \"\"\"Picklable function\"\"\"\n",
        "    return X.reshape(-1)"
      ],
      "execution_count": 0,
      "outputs": []
    },
    {
      "metadata": {
        "id": "7AcilXBXwMz9",
        "colab_type": "code",
        "colab": {}
      },
      "cell_type": "code",
      "source": [
        "steps = [\n",
        "    ('modAL_workaround', FunctionTransformer(func=modAL_workaround)),\n",
        "    ('featurizator', TfidfVectorizer(stop_words='english', ngram_range=(1, 2))),\n",
        "    ('feature_selector', SelectKBest(f_classif, k=20000)),\n",
        "    ('mlp', MLPClassifier(hidden_layer_sizes=(32, 32),\n",
        "                          alpha=0.01,\n",
        "                          # unfortunately, sklearn implementation doesn't allow to dropout neurons, so set this\n",
        "                          batch_size=128,\n",
        "                          max_iter=1000,\n",
        "                          early_stopping=True))\n",
        "]"
      ],
      "execution_count": 0,
      "outputs": []
    },
    {
      "metadata": {
        "id": "-SNG7IdIwM0A",
        "colab_type": "code",
        "colab": {}
      },
      "cell_type": "code",
      "source": [
        "pipe = Pipeline(steps)"
      ],
      "execution_count": 0,
      "outputs": []
    },
    {
      "metadata": {
        "id": "xI6X1suEwM0E",
        "colab_type": "code",
        "colab": {},
        "outputId": "3a0d4c97-de21-4443-bb83-0fce3120427d"
      },
      "cell_type": "code",
      "source": [
        "pipe.set_params(mlp__verbose=True, mlp__max_iter=2)"
      ],
      "execution_count": 0,
      "outputs": [
        {
          "output_type": "execute_result",
          "data": {
            "text/plain": [
              "Pipeline(memory=None,\n",
              "     steps=[('modAL_workaround', FunctionTransformer(accept_sparse=False,\n",
              "          func=<function modAL_workaround at 0x7f8d331d16a8>,\n",
              "          inv_kw_args=None, inverse_func=None, kw_args=None,\n",
              "          pass_y='deprecated', validate=True)), ('featurizator', TfidfVectorizer(analyzer='word', binary=Fal...e=True, solver='adam', tol=0.0001, validation_fraction=0.1,\n",
              "       verbose=True, warm_start=False))])"
            ]
          },
          "metadata": {
            "tags": []
          },
          "execution_count": 140
        }
      ]
    },
    {
      "metadata": {
        "id": "SI4DyrzkwM0G",
        "colab_type": "code",
        "colab": {},
        "outputId": "e8173213-43ce-494a-aca4-2b80bcc8740f"
      },
      "cell_type": "code",
      "source": [
        "%time pipe.fit(X_train_full, y_train_full)"
      ],
      "execution_count": 0,
      "outputs": [
        {
          "output_type": "stream",
          "text": [
            "Iteration 1, loss = 0.50455488\n",
            "Validation score: 0.908000\n",
            "Iteration 2, loss = 0.21559817\n",
            "Validation score: 0.928000\n",
            "CPU times: user 24.8 s, sys: 17.1 s, total: 41.9 s\n",
            "Wall time: 17.8 s\n"
          ],
          "name": "stdout"
        },
        {
          "output_type": "stream",
          "text": [
            "/home/nab/PycharmProjects/work/venv/lib/python3.6/site-packages/sklearn/neural_network/multilayer_perceptron.py:564: ConvergenceWarning: Stochastic Optimizer: Maximum iterations (2) reached and the optimization hasn't converged yet.\n",
            "  % self.max_iter, ConvergenceWarning)\n"
          ],
          "name": "stderr"
        },
        {
          "output_type": "execute_result",
          "data": {
            "text/plain": [
              "Pipeline(memory=None,\n",
              "     steps=[('modAL_workaround', FunctionTransformer(accept_sparse=False,\n",
              "          func=<function modAL_workaround at 0x7f8d331d16a8>,\n",
              "          inv_kw_args=None, inverse_func=None, kw_args=None,\n",
              "          pass_y='deprecated', validate=True)), ('featurizator', TfidfVectorizer(analyzer='word', binary=Fal...e=True, solver='adam', tol=0.0001, validation_fraction=0.1,\n",
              "       verbose=True, warm_start=False))])"
            ]
          },
          "metadata": {
            "tags": []
          },
          "execution_count": 141
        }
      ]
    },
    {
      "metadata": {
        "id": "7HPsKrhHwM0I",
        "colab_type": "code",
        "colab": {},
        "outputId": "616fa3ae-2d0f-44a4-e6f4-58be560a8d06"
      },
      "cell_type": "code",
      "source": [
        "pipe.score(X_train_full, y_train_full)"
      ],
      "execution_count": 0,
      "outputs": [
        {
          "output_type": "execute_result",
          "data": {
            "text/plain": [
              "0.95924"
            ]
          },
          "metadata": {
            "tags": []
          },
          "execution_count": 142
        }
      ]
    },
    {
      "metadata": {
        "id": "Sq1ZuVf3wM0J",
        "colab_type": "code",
        "colab": {},
        "outputId": "fb90ffa9-f741-4759-fe37-2d87e477f136"
      },
      "cell_type": "code",
      "source": [
        "pipe.score(X_test, y_test)"
      ],
      "execution_count": 0,
      "outputs": [
        {
          "output_type": "execute_result",
          "data": {
            "text/plain": [
              "0.89056"
            ]
          },
          "metadata": {
            "tags": []
          },
          "execution_count": 143
        }
      ]
    },
    {
      "metadata": {
        "id": "HZbMClG3wM0L",
        "colab_type": "text"
      },
      "cell_type": "markdown",
      "source": [
        "https://github.com/google/eng-edu/blob/master/ml/guides/text_classification/integration_test.py#L23"
      ]
    },
    {
      "metadata": {
        "id": "gZK5F0dUwM0L",
        "colab_type": "text"
      },
      "cell_type": "markdown",
      "source": [
        "## Active learning part"
      ]
    },
    {
      "metadata": {
        "id": "8_J0nJ-uwM0L",
        "colab_type": "code",
        "colab": {}
      },
      "cell_type": "code",
      "source": [
        "from modAL.models import ActiveLearner"
      ],
      "execution_count": 0,
      "outputs": []
    },
    {
      "metadata": {
        "id": "iHEEAC_ewM0N",
        "colab_type": "code",
        "colab": {}
      },
      "cell_type": "code",
      "source": [
        "import matplotlib.pyplot as plt"
      ],
      "execution_count": 0,
      "outputs": []
    },
    {
      "metadata": {
        "id": "FmdmtoFOwM0Q",
        "colab_type": "code",
        "colab": {}
      },
      "cell_type": "code",
      "source": [
        "def random_sampling(classifier, X_pool, n_instances=1, **uncertainty_measure_kwargs):\n",
        "    n_samples = len(X_pool)\n",
        "    query_idx = np.random.choice(range(n_samples), size=n_instances)\n",
        "    return query_idx, X_pool[query_idx]"
      ],
      "execution_count": 0,
      "outputs": []
    },
    {
      "metadata": {
        "id": "mGdFbUlOwM0R",
        "colab_type": "code",
        "colab": {}
      },
      "cell_type": "code",
      "source": [
        "from sklearn.model_selection import train_test_split"
      ],
      "execution_count": 0,
      "outputs": []
    },
    {
      "metadata": {
        "id": "iWmS8NGrwM0R",
        "colab_type": "code",
        "colab": {},
        "outputId": "aff52a6c-b07d-4567-eb1f-42eae1792c81"
      },
      "cell_type": "code",
      "source": [
        "X_seed, X_pool, y_seed, y_pool = train_test_split(X_full_train, y_full_train, train_size=1000, random_state=42)"
      ],
      "execution_count": 0,
      "outputs": [
        {
          "output_type": "stream",
          "text": [
            "/home/nab/PycharmProjects/work/venv/lib/python3.6/site-packages/sklearn/model_selection/_split.py:2026: FutureWarning: From version 0.21, test_size will always complement train_size unless both are specified.\n",
            "  FutureWarning)\n"
          ],
          "name": "stderr"
        }
      ]
    },
    {
      "metadata": {
        "id": "NgMaX6wpwM0T",
        "colab_type": "code",
        "colab": {},
        "outputId": "e885ad52-5fa9-48c4-90bc-e75b0b9bb2ee"
      },
      "cell_type": "code",
      "source": [
        "pipe.set_params(mlp__verbose=False, mlp__max_iter=1000)"
      ],
      "execution_count": 0,
      "outputs": [
        {
          "output_type": "execute_result",
          "data": {
            "text/plain": [
              "Pipeline(memory=None,\n",
              "     steps=[('modAL_workaround', FunctionTransformer(accept_sparse=False,\n",
              "          func=<function modAL_workaround at 0x7f8d331d16a8>,\n",
              "          inv_kw_args=None, inverse_func=None, kw_args=None,\n",
              "          pass_y='deprecated', validate=True)), ('featurizator', TfidfVectorizer(analyzer='word', binary=Fal...=True, solver='adam', tol=0.0001, validation_fraction=0.1,\n",
              "       verbose=False, warm_start=False))])"
            ]
          },
          "metadata": {
            "tags": []
          },
          "execution_count": 145
        }
      ]
    },
    {
      "metadata": {
        "id": "JI8fIds3wM0W",
        "colab_type": "code",
        "colab": {}
      },
      "cell_type": "code",
      "source": [
        "active_learner = ActiveLearner(\n",
        "    estimator=Pipeline(steps),\n",
        "    X_training=X_seed, y_training=y_seed\n",
        ")"
      ],
      "execution_count": 0,
      "outputs": []
    },
    {
      "metadata": {
        "id": "XRmYtrtfwM0X",
        "colab_type": "code",
        "colab": {},
        "outputId": "ac1ceb7f-3ad0-465d-ebf4-dab0c95cd74c"
      },
      "cell_type": "code",
      "source": [
        "active_learner.score(X_test, y_test)"
      ],
      "execution_count": 0,
      "outputs": [
        {
          "output_type": "execute_result",
          "data": {
            "text/plain": [
              "0.5"
            ]
          },
          "metadata": {
            "tags": []
          },
          "execution_count": 173
        }
      ]
    },
    {
      "metadata": {
        "id": "0d_5PJRMwM0Y",
        "colab_type": "code",
        "colab": {}
      },
      "cell_type": "code",
      "source": [
        "passive_learner = ActiveLearner(\n",
        "    estimator=Pipeline(steps),\n",
        "    query_strategy=random_sampling,\n",
        "    X_training=X_seed, y_training=y_seed\n",
        ")"
      ],
      "execution_count": 0,
      "outputs": []
    },
    {
      "metadata": {
        "id": "d0ti64BtwM0Z",
        "colab_type": "code",
        "colab": {},
        "outputId": "9d828aaf-be8b-46aa-ced9-fa49e1d76a5d"
      },
      "cell_type": "code",
      "source": [
        "passive_learner.score(X_test, y_test)"
      ],
      "execution_count": 0,
      "outputs": [
        {
          "output_type": "execute_result",
          "data": {
            "text/plain": [
              "0.7506"
            ]
          },
          "metadata": {
            "tags": []
          },
          "execution_count": 175
        }
      ]
    },
    {
      "metadata": {
        "id": "sPOwqr9jwM0b",
        "colab_type": "code",
        "colab": {}
      },
      "cell_type": "code",
      "source": [
        "active_scores = list()\n",
        "passive_scores = list()"
      ],
      "execution_count": 0,
      "outputs": []
    },
    {
      "metadata": {
        "id": "QomsGRWnwM0c",
        "colab_type": "code",
        "colab": {}
      },
      "cell_type": "code",
      "source": [
        "X_pool_a, X_pool_p, y_pool_a, y_pool_p = X_pool[:], X_pool[:], y_pool[:], y_pool[:]"
      ],
      "execution_count": 0,
      "outputs": []
    },
    {
      "metadata": {
        "id": "sid8Ub50wM0d",
        "colab_type": "code",
        "colab": {}
      },
      "cell_type": "code",
      "source": [
        "for query_step in range(1, 240 + 1):\n",
        "    \n",
        "    #active learner step\n",
        "    query_idx_a, query_inst_a = active_learner.query(X_pool_a, n_instances=100)\n",
        "    active_learner.teach(query_inst_a, y_pool_a[query_idx_a])\n",
        "    X_pool_a, y_pool_a = np.delete(X_pool_a, query_idx_a, axis=0), np.delete(y_pool_a, query_idx_a)\n",
        "    active_scores.append(active_learner.score(X_test, y_test))\n",
        "    \n",
        "    #passive learer step\n",
        "    query_idx_p, query_inst_p = passive_learner.query(X_pool_p, n_instances=100)\n",
        "    passive_learner.teach(query_inst_p, y_pool_p[query_idx_p])\n",
        "    X_pool_p, y_pool_p = np.delete(X_pool_p, query_idx_p, axis=0), np.delete(y_pool_p, query_idx_p)\n",
        "    passive_scores.append(passive_learner.score(X_test, y_test))"
      ],
      "execution_count": 0,
      "outputs": []
    },
    {
      "metadata": {
        "id": "csXGIAjiwM0e",
        "colab_type": "code",
        "colab": {},
        "outputId": "7a9fcf5d-1c6d-4a80-d773-ec0e33c3155d"
      },
      "cell_type": "code",
      "source": [
        "plt.plot(range(1, 240 + 1), active_scores, label='Active')\n",
        "plt.plot(range(1, 240 + 1), passive_scores, label='Passive')\n",
        "plt.title('Title')\n",
        "plt.xlabel('Query step')\n",
        "plt.ylabel('Test accuracy')\n",
        "plt.legend()"
      ],
      "execution_count": 0,
      "outputs": [
        {
          "output_type": "execute_result",
          "data": {
            "text/plain": [
              "<matplotlib.legend.Legend at 0x7f8bddba1710>"
            ]
          },
          "metadata": {
            "tags": []
          },
          "execution_count": 179
        },
        {
          "output_type": "display_data",
          "data": {
            "image/png": "[encoded data removed]",
            "text/plain": [
              "<Figure size 432x288 with 1 Axes>"
            ]
          },
          "metadata": {
            "tags": []
          }
        }
      ]
    },
    {
      "metadata": {
        "id": "AMtP-m_4wM0g",
        "colab_type": "code",
        "colab": {},
        "outputId": "79e53fd5-07ad-4526-fe77-d7e66c131c82"
      },
      "cell_type": "code",
      "source": [
        "plt.plot(range(1, 120 + 1), active_scores[:120], label='Active')\n",
        "plt.plot(range(1, 120 + 1), passive_scores[:120], label='Passive')\n",
        "plt.title('Title')\n",
        "plt.xlabel('Query step')\n",
        "plt.ylabel('Test accuracy')\n",
        "plt.legend()"
      ],
      "execution_count": 0,
      "outputs": [
        {
          "output_type": "execute_result",
          "data": {
            "text/plain": [
              "<matplotlib.legend.Legend at 0x7f8c03bfb860>"
            ]
          },
          "metadata": {
            "tags": []
          },
          "execution_count": 181
        },
        {
          "output_type": "display_data",
          "data": {
            "image/png": "[encoded data removed]",
            "text/plain": [
              "<Figure size 432x288 with 1 Axes>"
            ]
          },
          "metadata": {
            "tags": []
          }
        }
      ]
    },
    {
      "metadata": {
        "id": "GfyFHHg5wM0i",
        "colab_type": "code",
        "colab": {},
        "outputId": "d3307947-0b7b-4a1b-eeef-1c6b2514617d"
      },
      "cell_type": "code",
      "source": [
        "plt.plot(range(1, 20 + 1), active_scores[:20], label='Active')\n",
        "plt.plot(range(1, 20 + 1), passive_scores[:20], label='Passive')\n",
        "plt.title('Title')\n",
        "plt.xlabel('Query step')\n",
        "plt.ylabel('Test accuracy')\n",
        "plt.legend()"
      ],
      "execution_count": 0,
      "outputs": [
        {
          "output_type": "execute_result",
          "data": {
            "text/plain": [
              "<matplotlib.legend.Legend at 0x7f8bf24df940>"
            ]
          },
          "metadata": {
            "tags": []
          },
          "execution_count": 182
        },
        {
          "output_type": "display_data",
          "data": {
            "image/png": "[encoded data removed]",
            "text/plain": [
              "<Figure size 432x288 with 1 Axes>"
            ]
          },
          "metadata": {
            "tags": []
          }
        }
      ]
    },
    {
      "metadata": {
        "id": "u4jfTrHUwM0k",
        "colab_type": "code",
        "colab": {}
      },
      "cell_type": "code",
      "source": [
        ""
      ],
      "execution_count": 0,
      "outputs": []
    }
  ]
}