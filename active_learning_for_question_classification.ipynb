{
  "nbformat": 4,
  "nbformat_minor": 0,
  "metadata": {
    "colab": {
      "name": "active_learning_for_question_classification.ipynb",
      "version": "0.3.2",
      "provenance": [],
      "include_colab_link": true
    },
    "kernelspec": {
      "display_name": "Python 3",
      "language": "python",
      "name": "python3"
    }
  },
  "cells": [
    {
      "cell_type": "markdown",
      "metadata": {
        "id": "view-in-github",
        "colab_type": "text"
      },
      "source": [
        "[View in Colaboratory](https://colab.research.google.com/github/nikolay-bushkov/kaist_internship/blob/master/active_learning_for_question_classification.ipynb)"
      ]
    },
    {
      "metadata": {
        "id": "-f6MSlhppKU4",
        "colab_type": "text"
      },
      "cell_type": "markdown",
      "source": [
        "# Predicting question type on the Yahoo dataset"
      ]
    },
    {
      "metadata": {
        "id": "GPoREAmTpKU5",
        "colab_type": "text"
      },
      "cell_type": "markdown",
      "source": [
        "Based on https://developers.google.com/machine-learning/guides/text-classification/, https://github.com/cosmic-cortex/modAL/blob/f8df6021a1343d511d4c9b4c108ec5b683ce5487/examples/ranked_batch_mode.ipynb and https://doi.org/10.1145/3159652.3159733 (https://www.researchgate.net/publication/322488294_Identifying_Informational_vs_Conversational_Questions_on_Community_Question_Answering_Archives)"
      ]
    },
    {
      "metadata": {
        "id": "l-yBPlKCpKU6",
        "colab_type": "code",
        "colab": {}
      },
      "cell_type": "code",
      "source": [
        "!pip3 install -q https://github.com/nikolay-bushkov/modAL/archive/feature/sparse_matrix_support.zip"
      ],
      "execution_count": 0,
      "outputs": []
    },
    {
      "metadata": {
        "id": "9zjlWnPopKU8",
        "colab_type": "code",
        "colab": {}
      },
      "cell_type": "code",
      "source": [
        "import numpy as np\n",
        "import pandas as pd\n",
        "import matplotlib.pyplot as plt\n",
        "%matplotlib inline"
      ],
      "execution_count": 0,
      "outputs": []
    },
    {
      "metadata": {
        "id": "SYc9kk99pKU9",
        "colab_type": "code",
        "colab": {}
      },
      "cell_type": "code",
      "source": [
        "from sklearn.preprocessing import FunctionTransformer\n",
        "from sklearn.feature_extraction.text import TfidfVectorizer\n",
        "from sklearn.feature_selection import SelectKBest\n",
        "from sklearn.feature_selection import f_classif\n",
        "from sklearn.pipeline import Pipeline\n",
        "from sklearn.neural_network import MLPClassifier"
      ],
      "execution_count": 0,
      "outputs": []
    },
    {
      "metadata": {
        "id": "GW5Uez9hpKU_",
        "colab_type": "text"
      },
      "cell_type": "markdown",
      "source": [
        "## Data preparation"
      ]
    },
    {
      "metadata": {
        "id": "fTtcjb2epKU_",
        "colab_type": "code",
        "colab": {}
      },
      "cell_type": "code",
      "source": [
        "!wget -q http://files.deeppavlov.ai/datasets/yahoo_answers_data/train.csv"
      ],
      "execution_count": 0,
      "outputs": []
    },
    {
      "metadata": {
        "id": "fQJ4IgIypKVC",
        "colab_type": "code",
        "colab": {}
      },
      "cell_type": "code",
      "source": [
        "!wget -q http://files.deeppavlov.ai/datasets/yahoo_answers_data/valid.csv"
      ],
      "execution_count": 0,
      "outputs": []
    },
    {
      "metadata": {
        "id": "Xw2mFeIapKVD",
        "colab_type": "code",
        "colab": {}
      },
      "cell_type": "code",
      "source": [
        "train_ds = pd.read_csv('train.csv')"
      ],
      "execution_count": 0,
      "outputs": []
    },
    {
      "metadata": {
        "id": "0lX_mJu4pKVF",
        "colab_type": "code",
        "colab": {}
      },
      "cell_type": "code",
      "source": [
        "test_ds = pd.read_csv('valid.csv')"
      ],
      "execution_count": 0,
      "outputs": []
    },
    {
      "metadata": {
        "id": "ZUUKbPscpKVH",
        "colab_type": "code",
        "colab": {}
      },
      "cell_type": "code",
      "source": [
        "X_train_full_raw, y_train_full = train_ds['Title'].values.astype(np.unicode), train_ds['Label'].values"
      ],
      "execution_count": 0,
      "outputs": []
    },
    {
      "metadata": {
        "id": "0qjgnCgFpKVK",
        "colab_type": "code",
        "colab": {}
      },
      "cell_type": "code",
      "source": [
        "X_test_raw, y_test = test_ds['Title'].values.astype(np.unicode), test_ds['Label'].values"
      ],
      "execution_count": 0,
      "outputs": []
    },
    {
      "metadata": {
        "id": "ld1j9T53pKVM",
        "colab_type": "code",
        "colab": {},
        "outputId": "4dc937b8-e0bd-49d2-aed0-ce4f886c8680"
      },
      "cell_type": "code",
      "source": [
        "for text, target in zip(X_train_full_raw[2:4], y_train_full[2:4]):\n",
        "    print(\"Target: {}\".format(target))\n",
        "    print(text)"
      ],
      "execution_count": 0,
      "outputs": [
        {
          "output_type": "stream",
          "text": [
            "Target: 1\n",
            "Ladies, what strain or type of bud do you like to smoke the most?\n",
            "Target: 0\n",
            "How long does it take for an nds rom to upload onto the internet?\n"
          ],
          "name": "stdout"
        }
      ]
    },
    {
      "metadata": {
        "id": "USj6LNSRpKVP",
        "colab_type": "code",
        "colab": {}
      },
      "cell_type": "code",
      "source": [
        "transformation_pipe = Pipeline([\n",
        "    ('featurizer', TfidfVectorizer(stop_words='english', ngram_range=(1, 3))),\n",
        "    ('feature_selector', SelectKBest(f_classif, k=20000))\n",
        "])"
      ],
      "execution_count": 0,
      "outputs": []
    },
    {
      "metadata": {
        "id": "RZqxJNyMpKVQ",
        "colab_type": "code",
        "colab": {}
      },
      "cell_type": "code",
      "source": [
        "X_train_full = transformation_pipe.fit_transform(X_train_full_raw, y_train_full)"
      ],
      "execution_count": 0,
      "outputs": []
    },
    {
      "metadata": {
        "id": "oQOu7WqrpKVR",
        "colab_type": "code",
        "colab": {}
      },
      "cell_type": "code",
      "source": [
        "X_test = transformation_pipe.transform(X_test_raw)"
      ],
      "execution_count": 0,
      "outputs": []
    },
    {
      "metadata": {
        "id": "oy0LeEjVpKVS",
        "colab_type": "text"
      },
      "cell_type": "markdown",
      "source": [
        "## Baseline model"
      ]
    },
    {
      "metadata": {
        "id": "irimI7tupKVT",
        "colab_type": "code",
        "colab": {}
      },
      "cell_type": "code",
      "source": [
        "from sklearn.metrics import roc_auc_score"
      ],
      "execution_count": 0,
      "outputs": []
    },
    {
      "metadata": {
        "id": "2ZxqAx-apKVU",
        "colab_type": "code",
        "colab": {}
      },
      "cell_type": "code",
      "source": [
        "class FCClassifierROCAUC(MLPClassifier):\n",
        "    \"\"\"Replace default initialization parameters and scroing (ROC-AUC instead of accuracy).\"\"\"\n",
        "    def __init__(self, hidden_layer_sizes=(32,32), alpha=0.01,\n",
        "                 batch_size=32, max_iter=1000, early_stopping=True, **kwargs):\n",
        "        super(FCClassifierROCAUC, self).__init__(\n",
        "            hidden_layer_sizes=hidden_layer_sizes,\n",
        "            alpha=alpha,\n",
        "            batch_size=batch_size,\n",
        "            max_iter=max_iter,\n",
        "            early_stopping=early_stopping,\n",
        "            **kwargs)\n",
        "    def score(self, X, y, sample_weight=None):\n",
        "        if np.unique(self.classes_).shape[0] == np.unique(y).shape[0] == 2:  # hack for beginning of training\n",
        "            return roc_auc_score(y, self.predict(X), average='macro', sample_weight=sample_weight)\n",
        "        else:\n",
        "            return 0.5"
      ],
      "execution_count": 0,
      "outputs": []
    },
    {
      "metadata": {
        "id": "L3DK2TDDpKVW",
        "colab_type": "code",
        "colab": {}
      },
      "cell_type": "code",
      "source": [
        "clf = FCClassifierROCAUC()"
      ],
      "execution_count": 0,
      "outputs": []
    },
    {
      "metadata": {
        "id": "8avfVIgypKVX",
        "colab_type": "code",
        "colab": {},
        "outputId": "8de3ef1f-9af8-4a4d-9cdd-5ba47862567b"
      },
      "cell_type": "code",
      "source": [
        "%time clf.fit(X_train_full, y_train_full)"
      ],
      "execution_count": 0,
      "outputs": [
        {
          "output_type": "stream",
          "text": [
            "CPU times: user 4.47 s, sys: 2.37 s, total: 6.84 s\n",
            "Wall time: 5.07 s\n"
          ],
          "name": "stdout"
        },
        {
          "output_type": "execute_result",
          "data": {
            "text/plain": [
              "FCClassifierROCAUC(alpha=0.01, batch_size=32, early_stopping=True,\n",
              "          hidden_layer_sizes=(32, 32), max_iter=1000)"
            ]
          },
          "metadata": {
            "tags": []
          },
          "execution_count": 14
        }
      ]
    },
    {
      "metadata": {
        "id": "QNe6I4rTpKVZ",
        "colab_type": "code",
        "colab": {},
        "outputId": "8fb98ee0-01e8-4fbf-ac83-0cec58f94004"
      },
      "cell_type": "code",
      "source": [
        "clf.score(X_train_full, y_train_full)"
      ],
      "execution_count": 0,
      "outputs": [
        {
          "output_type": "execute_result",
          "data": {
            "text/plain": [
              "0.9483772859748042"
            ]
          },
          "metadata": {
            "tags": []
          },
          "execution_count": 15
        }
      ]
    },
    {
      "metadata": {
        "id": "-CMr---IpKVb",
        "colab_type": "code",
        "colab": {},
        "outputId": "31771d1b-cbb4-4107-d4e0-c9cd425a7ebc"
      },
      "cell_type": "code",
      "source": [
        "clf.score(X_test, y_test)"
      ],
      "execution_count": 0,
      "outputs": [
        {
          "output_type": "execute_result",
          "data": {
            "text/plain": [
              "0.7526062450119713"
            ]
          },
          "metadata": {
            "tags": []
          },
          "execution_count": 16
        }
      ]
    },
    {
      "metadata": {
        "id": "uQSOiqBgpKVd",
        "colab_type": "text"
      },
      "cell_type": "markdown",
      "source": [
        "## Active learning part"
      ]
    },
    {
      "metadata": {
        "id": "xKEGJTmcpKVe",
        "colab_type": "code",
        "colab": {}
      },
      "cell_type": "code",
      "source": [
        "from modAL.models import ActiveLearner"
      ],
      "execution_count": 0,
      "outputs": []
    },
    {
      "metadata": {
        "id": "z6TJwnG_pKVf",
        "colab_type": "code",
        "colab": {}
      },
      "cell_type": "code",
      "source": [
        "def random_sampling(classifier, X_pool, n_instances=1, **uncertainty_measure_kwargs):\n",
        "    n_samples = X_pool.shape[0]\n",
        "    query_idx = np.random.choice(range(n_samples), size=n_instances)\n",
        "    return query_idx, X_pool[query_idx]"
      ],
      "execution_count": 0,
      "outputs": []
    },
    {
      "metadata": {
        "id": "ltJZs1yfpKVg",
        "colab_type": "code",
        "colab": {}
      },
      "cell_type": "code",
      "source": [
        "from sklearn.model_selection import train_test_split"
      ],
      "execution_count": 0,
      "outputs": []
    },
    {
      "metadata": {
        "id": "-ZuLbl7qpKVi",
        "colab_type": "code",
        "colab": {}
      },
      "cell_type": "code",
      "source": [
        "SEED_SIZE = 0\n",
        "QUERY_SIZE = 16\n",
        "QUERY_STEPS = (X_train_full.shape[0] - SEED_SIZE) // QUERY_SIZE"
      ],
      "execution_count": 0,
      "outputs": []
    },
    {
      "metadata": {
        "id": "CK3BJ1qUpKVj",
        "colab_type": "code",
        "colab": {},
        "outputId": "64a78c90-9068-4815-d54b-177a8025aaf0"
      },
      "cell_type": "code",
      "source": [
        "X_seed, X_pool, y_seed, y_pool = train_test_split(X_train_full, y_train_full, train_size=SEED_SIZE, random_state=42)"
      ],
      "execution_count": 0,
      "outputs": [
        {
          "output_type": "stream",
          "text": [
            "/home/nab/PycharmProjects/work/venv/lib/python3.6/site-packages/sklearn/model_selection/_split.py:2026: FutureWarning: From version 0.21, test_size will always complement train_size unless both are specified.\n",
            "  FutureWarning)\n"
          ],
          "name": "stderr"
        }
      ]
    },
    {
      "metadata": {
        "id": "oP_4eWp3pKVk",
        "colab_type": "code",
        "colab": {}
      },
      "cell_type": "code",
      "source": [
        "from modAL.batch import uncertainty_batch_sampling"
      ],
      "execution_count": 0,
      "outputs": []
    },
    {
      "metadata": {
        "id": "9s-HTewLpKVm",
        "colab_type": "code",
        "colab": {}
      },
      "cell_type": "code",
      "source": [
        "from tqdm import tqdm"
      ],
      "execution_count": 0,
      "outputs": []
    },
    {
      "metadata": {
        "id": "uGTprSafpKVn",
        "colab_type": "code",
        "colab": {}
      },
      "cell_type": "code",
      "source": [
        "queries = range(1, QUERY_STEPS + 1)"
      ],
      "execution_count": 0,
      "outputs": []
    },
    {
      "metadata": {
        "id": "dLdxAcsdpKVp",
        "colab_type": "text"
      },
      "cell_type": "markdown",
      "source": [
        "### Random sampling and uncertainty sampling (ranked-batch mode)"
      ]
    },
    {
      "metadata": {
        "id": "QJAAtQH2pKVq",
        "colab_type": "code",
        "colab": {}
      },
      "cell_type": "code",
      "source": [
        "X_pool_rs, X_pool_us, y_pool_rs, y_pool_us = X_pool[:], X_pool[:], y_pool[:], y_pool[:]"
      ],
      "execution_count": 0,
      "outputs": []
    },
    {
      "metadata": {
        "id": "9XlfPoEhpKVr",
        "colab_type": "code",
        "colab": {}
      },
      "cell_type": "code",
      "source": [
        "rs_scores = list()\n",
        "us_scores = list()\n",
        "rs_mask = np.ones(X_pool.shape[0], np.bool)\n",
        "us_mask = np.ones(X_pool.shape[0], np.bool)"
      ],
      "execution_count": 0,
      "outputs": []
    },
    {
      "metadata": {
        "id": "A4ra7uFUpKVt",
        "colab_type": "code",
        "colab": {}
      },
      "cell_type": "code",
      "source": [
        "rs_learner = ActiveLearner(\n",
        "    estimator=FCClassifierROCAUC(),\n",
        "    query_strategy=random_sampling\n",
        ")\n",
        "us_learner = ActiveLearner(\n",
        "    estimator=FCClassifierROCAUC(),\n",
        "    query_strategy=uncertainty_batch_sampling\n",
        ")"
      ],
      "execution_count": 0,
      "outputs": []
    },
    {
      "metadata": {
        "id": "4_FlE7Q3pKVu",
        "colab_type": "code",
        "colab": {},
        "outputId": "ad3b6567-01b3-4263-8ec3-b6119c801801"
      },
      "cell_type": "code",
      "source": [
        "for query_step in tqdm(queries):\n",
        "    \n",
        "    #random\n",
        "    query_idx_rs, query_inst_rs = rs_learner.query(X_pool_rs, n_instances=QUERY_SIZE)\n",
        "    rs_learner.teach(query_inst_rs, y_pool_rs[query_idx_rs])\n",
        "    rs_mask[query_idx_rs] = 0\n",
        "    X_pool_rs, y_pool_rs = X_pool_rs[rs_mask], y_pool_rs[rs_mask]\n",
        "    rs_mask = np.ones(X_pool_rs.shape[0], np.bool)\n",
        "    rs_scores.append(rs_learner.score(X_test, y_test))\n",
        "    \n",
        "    #uncertainty (batch) with cosine distances\n",
        "    query_idx_us, query_inst_us = us_learner.query(X_pool_us, n_instances=QUERY_SIZE, metric='cosine', n_jobs=-2)\n",
        "    us_learner.teach(query_inst_us, y_pool_us[query_idx_us])\n",
        "    us_mask[query_idx_us] = 0\n",
        "    X_pool_us, y_pool_us = X_pool_us[us_mask], y_pool_us[us_mask]\n",
        "    us_mask = np.ones(X_pool_us.shape[0], np.bool)\n",
        "    us_scores.append(us_learner.score(X_test, y_test))"
      ],
      "execution_count": 0,
      "outputs": [
        {
          "output_type": "stream",
          "text": [
            "  0%|          | 0/225 [00:00<?, ?it/s]/home/nab/PycharmProjects/work/venv/lib/python3.6/site-packages/sklearn/neural_network/multilayer_perceptron.py:358: UserWarning: Got `batch_size` less than 1 or larger than sample size. It is going to be clipped\n",
            "  warnings.warn(\"Got `batch_size` less than 1 or larger than \"\n",
            "100%|██████████| 225/225 [32:25<00:00,  8.65s/it]\n"
          ],
          "name": "stderr"
        }
      ]
    },
    {
      "metadata": {
        "id": "n6T3v6dUpKVy",
        "colab_type": "code",
        "colab": {},
        "outputId": "3f1c9349-2667-4a59-ea0a-a4ed4f4596dc"
      },
      "cell_type": "code",
      "source": [
        "plt.plot(rs_scores, label='Random sampling')\n",
        "plt.plot(us_scores, label='Uncertainty sampling (ranked-batch mode)')\n",
        "plt.title('Yahoo Question Classification')\n",
        "plt.xlabel('Query step')\n",
        "plt.ylabel('Test AUC-ROC')\n",
        "plt.legend()"
      ],
      "execution_count": 0,
      "outputs": [
        {
          "output_type": "execute_result",
          "data": {
            "text/plain": [
              "<matplotlib.legend.Legend at 0x7f4b1268bfd0>"
            ]
          },
          "metadata": {
            "tags": []
          },
          "execution_count": 36
        },
        {
          "output_type": "display_data",
          "data": {
            "image/png": "[encoded data removed]",
            "text/plain": [
              "<Figure size 432x288 with 1 Axes>"
            ]
          },
          "metadata": {
            "tags": []
          }
        }
      ]
    },
    {
      "metadata": {
        "id": "yYMpjlcIpKVz",
        "colab_type": "code",
        "colab": {}
      },
      "cell_type": "code",
      "source": [
        "X_pool_ubs, y_pool_ubs = X_pool[:], y_pool[:]"
      ],
      "execution_count": 0,
      "outputs": []
    },
    {
      "metadata": {
        "id": "zpHEwvtQpKV0",
        "colab_type": "code",
        "colab": {}
      },
      "cell_type": "code",
      "source": [
        "ubs_learner = ActiveLearner(\n",
        "    estimator=FCClassifierROCAUC(),\n",
        "    query_strategy=uncertainty_batch_sampling\n",
        ")"
      ],
      "execution_count": 0,
      "outputs": []
    },
    {
      "metadata": {
        "id": "4P1LCGHnpKV2",
        "colab_type": "code",
        "colab": {}
      },
      "cell_type": "code",
      "source": [
        "ubs_scores = list()\n",
        "ubs_mask = np.ones(X_pool.shape[0], np.bool)"
      ],
      "execution_count": 0,
      "outputs": []
    },
    {
      "metadata": {
        "id": "YshfkWoFpKV4",
        "colab_type": "code",
        "colab": {},
        "outputId": "4fb6233e-cced-42ca-d6a0-6965b7101679"
      },
      "cell_type": "code",
      "source": [
        "for query_step in tqdm(queries):\n",
        "    #uncertainty (batch) with euclidean\n",
        "    query_idx_ubs, query_inst_ubs = ubs_learner.query(X_pool_ubs, n_instances=QUERY_SIZE, n_jobs=-2)\n",
        "    ubs_learner.teach(query_inst_ubs, y_pool_ubs[query_idx_ubs])\n",
        "    ubs_mask[query_idx_ubs] = 0\n",
        "    X_pool_ubs, y_pool_ubs = X_pool_ubs[ubs_mask], y_pool_ubs[ubs_mask]\n",
        "    ubs_mask = np.ones(X_pool_ubs.shape[0], np.bool)\n",
        "    ubs_scores.append(ubs_learner.score(X_test, y_test))"
      ],
      "execution_count": 0,
      "outputs": [
        {
          "output_type": "stream",
          "text": [
            "  0%|          | 0/225 [00:00<?, ?it/s]/home/nab/PycharmProjects/work/venv/lib/python3.6/site-packages/sklearn/neural_network/multilayer_perceptron.py:358: UserWarning: Got `batch_size` less than 1 or larger than sample size. It is going to be clipped\n",
            "  warnings.warn(\"Got `batch_size` less than 1 or larger than \"\n",
            "100%|██████████| 225/225 [22:24<00:00,  5.98s/it]\n"
          ],
          "name": "stderr"
        }
      ]
    },
    {
      "metadata": {
        "id": "3qwV_wWWpKV6",
        "colab_type": "code",
        "colab": {},
        "outputId": "30835d0a-379d-4208-bef9-8cd5fec138d7"
      },
      "cell_type": "code",
      "source": [
        "plt.plot(rs_scores, label='Random sampling')\n",
        "plt.plot(ubs_scores, label='Uncertainty sampling (ranked-batch mode, euclidean metric)')\n",
        "plt.title('Yahoo Question Classification')\n",
        "plt.xlabel('Query step')\n",
        "plt.ylabel('Test AUC-ROC')\n",
        "plt.legend()"
      ],
      "execution_count": 0,
      "outputs": [
        {
          "output_type": "execute_result",
          "data": {
            "text/plain": [
              "<matplotlib.legend.Legend at 0x7f4b17c4ab00>"
            ]
          },
          "metadata": {
            "tags": []
          },
          "execution_count": 55
        },
        {
          "output_type": "display_data",
          "data": {
            "image/png": "[encoded data removed]",
            "text/plain": [
              "<Figure size 432x288 with 1 Axes>"
            ]
          },
          "metadata": {
            "tags": []
          }
        }
      ]
    },
    {
      "metadata": {
        "id": "p_ayS956pKV9",
        "colab_type": "code",
        "colab": {}
      },
      "cell_type": "code",
      "source": [
        ""
      ],
      "execution_count": 0,
      "outputs": []
    }
  ]
}