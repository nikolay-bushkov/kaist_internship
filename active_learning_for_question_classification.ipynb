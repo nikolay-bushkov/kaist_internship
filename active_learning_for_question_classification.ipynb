{
  "nbformat": 4,
  "nbformat_minor": 0,
  "metadata": {
    "colab": {
      "name": "active_learning_for_question_classification.ipynb",
      "version": "0.3.2",
      "provenance": [],
      "include_colab_link": true
    },
    "kernelspec": {
      "display_name": "Python 3",
      "language": "python",
      "name": "python3"
    }
  },
  "cells": [
    {
      "cell_type": "markdown",
      "metadata": {
        "id": "view-in-github",
        "colab_type": "text"
      },
      "source": [
        "[View in Colaboratory](https://colab.research.google.com/github/nikolay-bushkov/kaist_internship/blob/master/active_learning_for_question_classification.ipynb)"
      ]
    },
    {
      "metadata": {
        "id": "KQ3P2WhWOI_O",
        "colab_type": "text"
      },
      "cell_type": "markdown",
      "source": [
        "# Predicting question type on the Yahoo dataset"
      ]
    },
    {
      "metadata": {
        "id": "duG5JsPtOI_P",
        "colab_type": "text"
      },
      "cell_type": "markdown",
      "source": [
        "Based on https://developers.google.com/machine-learning/guides/text-classification/, https://github.com/cosmic-cortex/modAL/blob/f8df6021a1343d511d4c9b4c108ec5b683ce5487/examples/ranked_batch_mode.ipynb and https://doi.org/10.1145/3159652.3159733 (https://www.researchgate.net/publication/322488294_Identifying_Informational_vs_Conversational_Questions_on_Community_Question_Answering_Archives)"
      ]
    },
    {
      "metadata": {
        "id": "3V3_-Zt8OI_R",
        "colab_type": "code",
        "colab": {}
      },
      "cell_type": "code",
      "source": [
        "!pip3 install -q https://github.com/nikolay-bushkov/modAL/archive/feature/sparse_matrix_support.zip"
      ],
      "execution_count": 0,
      "outputs": []
    },
    {
      "metadata": {
        "id": "fINH4G4cOI_W",
        "colab_type": "code",
        "colab": {}
      },
      "cell_type": "code",
      "source": [
        "import numpy as np\n",
        "import pandas as pd\n",
        "import matplotlib.pyplot as plt\n",
        "%matplotlib inline"
      ],
      "execution_count": 0,
      "outputs": []
    },
    {
      "metadata": {
        "id": "FPmkjRmOOI_a",
        "colab_type": "code",
        "colab": {}
      },
      "cell_type": "code",
      "source": [
        "from sklearn.preprocessing import FunctionTransformer\n",
        "from sklearn.feature_extraction.text import TfidfVectorizer\n",
        "from sklearn.feature_selection import SelectKBest\n",
        "from sklearn.feature_selection import f_classif\n",
        "from sklearn.pipeline import Pipeline\n",
        "from sklearn.neural_network import MLPClassifier"
      ],
      "execution_count": 0,
      "outputs": []
    },
    {
      "metadata": {
        "id": "XevgkgopOI_d",
        "colab_type": "text"
      },
      "cell_type": "markdown",
      "source": [
        "## Data preparation"
      ]
    },
    {
      "metadata": {
        "id": "po5l8X6LOI_d",
        "colab_type": "code",
        "colab": {}
      },
      "cell_type": "code",
      "source": [
        "!wget -q http://files.deeppavlov.ai/datasets/yahoo_answers_data/train.csv"
      ],
      "execution_count": 0,
      "outputs": []
    },
    {
      "metadata": {
        "id": "kY4H7fBPOI_g",
        "colab_type": "code",
        "colab": {}
      },
      "cell_type": "code",
      "source": [
        "!wget -q http://files.deeppavlov.ai/datasets/yahoo_answers_data/valid.csv"
      ],
      "execution_count": 0,
      "outputs": []
    },
    {
      "metadata": {
        "id": "SQCXowClOI_i",
        "colab_type": "code",
        "colab": {}
      },
      "cell_type": "code",
      "source": [
        "train_ds = pd.read_csv('train.csv')"
      ],
      "execution_count": 0,
      "outputs": []
    },
    {
      "metadata": {
        "id": "sVfSRQxJOI_k",
        "colab_type": "code",
        "colab": {}
      },
      "cell_type": "code",
      "source": [
        "test_ds = pd.read_csv('valid.csv')"
      ],
      "execution_count": 0,
      "outputs": []
    },
    {
      "metadata": {
        "id": "mvf89dmZOI_n",
        "colab_type": "code",
        "colab": {}
      },
      "cell_type": "code",
      "source": [
        "X_train_full_raw, y_train_full = train_ds['Title'].values.astype(np.unicode), train_ds['Label'].values"
      ],
      "execution_count": 0,
      "outputs": []
    },
    {
      "metadata": {
        "id": "PgRUPelVOI_p",
        "colab_type": "code",
        "colab": {}
      },
      "cell_type": "code",
      "source": [
        "X_test_raw, y_test = test_ds['Title'].values.astype(np.unicode), test_ds['Label'].values"
      ],
      "execution_count": 0,
      "outputs": []
    },
    {
      "metadata": {
        "id": "qxV3gea_OI_r",
        "colab_type": "code",
        "colab": {},
        "outputId": "4c081be9-55f9-48c2-9d2f-b89d50cdb744"
      },
      "cell_type": "code",
      "source": [
        "for text, target in zip(X_train_full_raw[2:4], y_train_full[2:4]):\n",
        "    print(\"Target: {}\".format(target))\n",
        "    print(text)"
      ],
      "execution_count": 0,
      "outputs": [
        {
          "output_type": "stream",
          "text": [
            "Target: 1\n",
            "Ladies, what strain or type of bud do you like to smoke the most?\n",
            "Target: 0\n",
            "How long does it take for an nds rom to upload onto the internet?\n"
          ],
          "name": "stdout"
        }
      ]
    },
    {
      "metadata": {
        "id": "vGyXpX7iOI_v",
        "colab_type": "code",
        "colab": {}
      },
      "cell_type": "code",
      "source": [
        "transformation_pipe = Pipeline([\n",
        "    ('featurizer', TfidfVectorizer(stop_words='english', ngram_range=(1, 3))),\n",
        "    ('feature_selector', SelectKBest(f_classif, k=20000))\n",
        "])"
      ],
      "execution_count": 0,
      "outputs": []
    },
    {
      "metadata": {
        "id": "22MSmPtHOI_x",
        "colab_type": "code",
        "colab": {}
      },
      "cell_type": "code",
      "source": [
        "X_train_full = transformation_pipe.fit_transform(X_train_full_raw, y_train_full)"
      ],
      "execution_count": 0,
      "outputs": []
    },
    {
      "metadata": {
        "id": "Z0qYkNbFOI_y",
        "colab_type": "code",
        "colab": {}
      },
      "cell_type": "code",
      "source": [
        "X_test = transformation_pipe.transform(X_test_raw)"
      ],
      "execution_count": 0,
      "outputs": []
    },
    {
      "metadata": {
        "id": "niLuYyG6OI_z",
        "colab_type": "text"
      },
      "cell_type": "markdown",
      "source": [
        "## Baseline model"
      ]
    },
    {
      "metadata": {
        "id": "BZ6TGx2NOI_0",
        "colab_type": "code",
        "colab": {}
      },
      "cell_type": "code",
      "source": [
        "from sklearn.metrics import roc_auc_score"
      ],
      "execution_count": 0,
      "outputs": []
    },
    {
      "metadata": {
        "id": "ePnyQIvsOI_2",
        "colab_type": "code",
        "colab": {}
      },
      "cell_type": "code",
      "source": [
        "class FCClassifierROCAUC(MLPClassifier):\n",
        "    \"\"\"Replace default initialization parameters and scroing (ROC-AUC instead of accuracy).\"\"\"\n",
        "    def __init__(self, hidden_layer_sizes=(32,32), alpha=0.01,\n",
        "                 batch_size=32, max_iter=1000, early_stopping=True, **kwargs):\n",
        "        super(FCClassifierROCAUC, self).__init__(\n",
        "            hidden_layer_sizes=hidden_layer_sizes,\n",
        "            alpha=alpha,\n",
        "            batch_size=batch_size,\n",
        "            max_iter=max_iter,\n",
        "            early_stopping=early_stopping,\n",
        "            **kwargs)\n",
        "    def score(self, X, y, sample_weight=None):\n",
        "        if np.unique(self.classes_).shape[0] == np.unique(y).shape[0] == 2:  # hack for beginning of training\n",
        "            return roc_auc_score(y, self.predict(X), average='macro', sample_weight=sample_weight)\n",
        "        else:\n",
        "            return 0"
      ],
      "execution_count": 0,
      "outputs": []
    },
    {
      "metadata": {
        "id": "VA7x-ElTOI_5",
        "colab_type": "code",
        "colab": {}
      },
      "cell_type": "code",
      "source": [
        "clf = FCClassifierROCAUC()"
      ],
      "execution_count": 0,
      "outputs": []
    },
    {
      "metadata": {
        "id": "7rBANQaCOI_6",
        "colab_type": "code",
        "colab": {},
        "outputId": "5a566ada-a892-42eb-c2af-246a7e64434d"
      },
      "cell_type": "code",
      "source": [
        "%time clf.fit(X_train_full, y_train_full)"
      ],
      "execution_count": 0,
      "outputs": [
        {
          "output_type": "stream",
          "text": [
            "CPU times: user 5.57 s, sys: 2.43 s, total: 8 s\n",
            "Wall time: 5.78 s\n"
          ],
          "name": "stdout"
        },
        {
          "output_type": "execute_result",
          "data": {
            "text/plain": [
              "FCClassifierROCAUC(alpha=0.01, batch_size=32, early_stopping=True,\n",
              "          hidden_layer_sizes=(32, 32), max_iter=1000)"
            ]
          },
          "metadata": {
            "tags": []
          },
          "execution_count": 41
        }
      ]
    },
    {
      "metadata": {
        "id": "E_rhSzpxOI_8",
        "colab_type": "code",
        "colab": {},
        "outputId": "49ef7f9e-f83f-43c8-d464-c9216b08b8ab"
      },
      "cell_type": "code",
      "source": [
        "clf.score(X_train_full, y_train_full)"
      ],
      "execution_count": 0,
      "outputs": [
        {
          "output_type": "execute_result",
          "data": {
            "text/plain": [
              "0.9626376176532819"
            ]
          },
          "metadata": {
            "tags": []
          },
          "execution_count": 42
        }
      ]
    },
    {
      "metadata": {
        "id": "FAuqTR3nOI__",
        "colab_type": "code",
        "colab": {},
        "outputId": "b8617b29-62da-4c41-a610-bb2d88af25dd"
      },
      "cell_type": "code",
      "source": [
        "clf.score(X_test, y_test)"
      ],
      "execution_count": 0,
      "outputs": [
        {
          "output_type": "execute_result",
          "data": {
            "text/plain": [
              "0.7486906424581006"
            ]
          },
          "metadata": {
            "tags": []
          },
          "execution_count": 43
        }
      ]
    },
    {
      "metadata": {
        "id": "BZwRdqCiOJAB",
        "colab_type": "text"
      },
      "cell_type": "markdown",
      "source": [
        "## Active learning part"
      ]
    },
    {
      "metadata": {
        "id": "lElddrYEOJAB",
        "colab_type": "code",
        "colab": {}
      },
      "cell_type": "code",
      "source": [
        "from modAL.models import ActiveLearner"
      ],
      "execution_count": 0,
      "outputs": []
    },
    {
      "metadata": {
        "id": "dgI8Bya6OJAD",
        "colab_type": "code",
        "colab": {}
      },
      "cell_type": "code",
      "source": [
        "def random_sampling(classifier, X_pool, n_instances=1, **uncertainty_measure_kwargs):\n",
        "    n_samples = X_pool.shape[0]\n",
        "    query_idx = np.random.choice(range(n_samples), size=n_instances)\n",
        "    return query_idx, X_pool[query_idx]"
      ],
      "execution_count": 0,
      "outputs": []
    },
    {
      "metadata": {
        "id": "oDnVgHdAOJAE",
        "colab_type": "code",
        "colab": {}
      },
      "cell_type": "code",
      "source": [
        "from sklearn.model_selection import train_test_split"
      ],
      "execution_count": 0,
      "outputs": []
    },
    {
      "metadata": {
        "id": "U-zvaEqVOJAG",
        "colab_type": "code",
        "colab": {}
      },
      "cell_type": "code",
      "source": [
        "SEED_SIZE = 0\n",
        "QUERY_SIZE = 16\n",
        "QUERY_STEPS = (X_train_full.shape[0] - SEED_SIZE) // QUERY_SIZE"
      ],
      "execution_count": 0,
      "outputs": []
    },
    {
      "metadata": {
        "id": "wRVPLDSlOJAI",
        "colab_type": "code",
        "colab": {},
        "outputId": "692555ee-332f-427b-b42f-5e6ec7daafe7"
      },
      "cell_type": "code",
      "source": [
        "X_seed, X_pool, y_seed, y_pool = train_test_split(X_train_full, y_train_full, train_size=SEED_SIZE, random_state=42)"
      ],
      "execution_count": 0,
      "outputs": [
        {
          "output_type": "stream",
          "text": [
            "/home/nab/PycharmProjects/work/venv/lib/python3.6/site-packages/sklearn/model_selection/_split.py:2026: FutureWarning: From version 0.21, test_size will always complement train_size unless both are specified.\n",
            "  FutureWarning)\n"
          ],
          "name": "stderr"
        }
      ]
    },
    {
      "metadata": {
        "id": "TYllJiIeOJAJ",
        "colab_type": "code",
        "colab": {}
      },
      "cell_type": "code",
      "source": [
        "from modAL.batch import uncertainty_batch_sampling"
      ],
      "execution_count": 0,
      "outputs": []
    },
    {
      "metadata": {
        "id": "jcgcPbe2OJAL",
        "colab_type": "code",
        "colab": {}
      },
      "cell_type": "code",
      "source": [
        "from tqdm import tqdm"
      ],
      "execution_count": 0,
      "outputs": []
    },
    {
      "metadata": {
        "id": "o87DlPWEOJAN",
        "colab_type": "code",
        "colab": {}
      },
      "cell_type": "code",
      "source": [
        "queries = range(1, QUERY_STEPS + 1)"
      ],
      "execution_count": 0,
      "outputs": []
    },
    {
      "metadata": {
        "id": "vhOtrTYyOJAO",
        "colab_type": "text"
      },
      "cell_type": "markdown",
      "source": [
        "### Random sampling and uncertainty sampling (ranked-batch mode)"
      ]
    },
    {
      "metadata": {
        "id": "NvwXSbV2OJAP",
        "colab_type": "code",
        "colab": {}
      },
      "cell_type": "code",
      "source": [
        "X_pool_rs, X_pool_us, y_pool_rs, y_pool_us = X_pool[:], X_pool[:], y_pool[:], y_pool[:]"
      ],
      "execution_count": 0,
      "outputs": []
    },
    {
      "metadata": {
        "id": "Li5vqdX_OJAS",
        "colab_type": "code",
        "colab": {}
      },
      "cell_type": "code",
      "source": [
        "rs_scores = list()\n",
        "us_scores = list()\n",
        "rs_mask = np.ones(X_pool.shape[0], np.bool)\n",
        "us_mask = np.ones(X_pool.shape[0], np.bool)"
      ],
      "execution_count": 0,
      "outputs": []
    },
    {
      "metadata": {
        "id": "nhJF8P9uOJAW",
        "colab_type": "code",
        "colab": {}
      },
      "cell_type": "code",
      "source": [
        "rs_learner = ActiveLearner(\n",
        "    estimator=FCClassifierROCAUC(),\n",
        "    query_strategy=random_sampling\n",
        ")\n",
        "us_learner = ActiveLearner(\n",
        "    estimator=FCClassifierROCAUC(),\n",
        "    query_strategy=uncertainty_batch_sampling\n",
        ")"
      ],
      "execution_count": 0,
      "outputs": []
    },
    {
      "metadata": {
        "id": "bxFDkQvfOJAZ",
        "colab_type": "code",
        "colab": {},
        "outputId": "251d86ea-f656-44bc-aedc-d3514057786c"
      },
      "cell_type": "code",
      "source": [
        "for query_step in tqdm(queries):\n",
        "    \n",
        "    #random\n",
        "    query_idx_rs, query_inst_rs = rs_learner.query(X_pool_rs, n_instances=QUERY_SIZE)\n",
        "    rs_learner.teach(query_inst_rs, y_pool_rs[query_idx_rs])\n",
        "    rs_mask[query_idx_rs] = 0\n",
        "    X_pool_rs, y_pool_rs = X_pool_rs[rs_mask], y_pool_rs[rs_mask]\n",
        "    rs_mask = np.ones(X_pool_rs.shape[0], np.bool)\n",
        "    rs_scores.append(rs_learner.score(X_test, y_test))\n",
        "    \n",
        "    #uncertainty (batch)\n",
        "    query_idx_us, query_inst_us = us_learner.query(X_pool_us, n_instances=QUERY_SIZE, metric='cosine', n_jobs=-2)\n",
        "    us_learner.teach(query_inst_us, y_pool_us[query_idx_us])\n",
        "    us_mask[query_idx_us] = 0\n",
        "    X_pool_us, y_pool_us = X_pool_us[us_mask], y_pool_us[us_mask]\n",
        "    us_mask = np.ones(X_pool_us.shape[0], np.bool)\n",
        "    us_scores.append(us_learner.score(X_test, y_test))"
      ],
      "execution_count": 0,
      "outputs": [
        {
          "output_type": "stream",
          "text": [
            "  0%|          | 0/225 [00:00<?, ?it/s]/home/nab/PycharmProjects/work/venv/lib/python3.6/site-packages/sklearn/neural_network/multilayer_perceptron.py:358: UserWarning: Got `batch_size` less than 1 or larger than sample size. It is going to be clipped\n",
            "  warnings.warn(\"Got `batch_size` less than 1 or larger than \"\n",
            "100%|██████████| 225/225 [33:28<00:00,  8.93s/it]\n"
          ],
          "name": "stderr"
        }
      ]
    },
    {
      "metadata": {
        "id": "EKR1vKX9OJAb",
        "colab_type": "code",
        "colab": {},
        "outputId": "2989834b-5bc8-4fa1-a1e3-3ef65abb4052"
      },
      "cell_type": "code",
      "source": [
        "plt.plot(rs_scores, label='Random sampling')\n",
        "plt.plot(us_scores, label='Uncertainty sampling (ranked-batch mode)')\n",
        "plt.title('Yahoo Question Classification')\n",
        "plt.xlabel('Query step')\n",
        "plt.ylabel('Test AUC-ROC')\n",
        "plt.legend()"
      ],
      "execution_count": 0,
      "outputs": [
        {
          "output_type": "execute_result",
          "data": {
            "text/plain": [
              "<matplotlib.legend.Legend at 0x7f041e855be0>"
            ]
          },
          "metadata": {
            "tags": []
          },
          "execution_count": 48
        },
        {
          "output_type": "display_data",
          "data": {
            "image/png": "[encoded data removed]",
            "text/plain": [
              "<Figure size 432x288 with 1 Axes>"
            ]
          },
          "metadata": {
            "tags": []
          }
        }
      ]
    },
    {
      "metadata": {
        "id": "RzIxXD1tOJAe",
        "colab_type": "code",
        "colab": {}
      },
      "cell_type": "code",
      "source": [
        ""
      ],
      "execution_count": 0,
      "outputs": []
    }
  ]
}